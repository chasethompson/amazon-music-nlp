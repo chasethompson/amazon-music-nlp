{
 "cells": [
  {
   "cell_type": "code",
   "execution_count": 1,
   "metadata": {},
   "outputs": [
    {
     "name": "stderr",
     "output_type": "stream",
     "text": [
      "Using TensorFlow backend.\n"
     ]
    }
   ],
   "source": [
    "## First we'll need to setup our environment with the necessary imports\n",
    "\n",
    "# Basic imports\n",
    "import numpy as np \n",
    "import pandas as pd\n",
    "import os\n",
    "from os import path\n",
    "\n",
    "# Viz imports\n",
    "import seaborn as sns\n",
    "import matplotlib.pyplot as plt\n",
    "from PIL import Image\n",
    "from wordcloud import WordCloud, STOPWORDS, ImageColorGenerator\n",
    "\n",
    "# NLP imports\n",
    "import nltk\n",
    "from nltk.corpus import stopwords\n",
    "from nltk.stem.porter import PorterStemmer\n",
    "from wordcloud import WordCloud,STOPWORDS\n",
    "from nltk.stem import WordNetLemmatizer\n",
    "from nltk.tokenize import word_tokenize,sent_tokenize\n",
    "from nltk.tokenize.toktok import ToktokTokenizer\n",
    "from nltk.stem import LancasterStemmer,WordNetLemmatizer\n",
    "from nltk import pos_tag\n",
    "from nltk.corpus import wordnet\n",
    "\n",
    "from sklearn.feature_extraction.text import CountVectorizer\n",
    "from sklearn.feature_extraction.text import TfidfVectorizer\n",
    "from sklearn.preprocessing import LabelBinarizer\n",
    "\n",
    "\n",
    "from string import punctuation\n",
    "import re,string,unicodedata\n",
    "\n",
    "# Model imports\n",
    "from sklearn.linear_model import LogisticRegression,SGDClassifier\n",
    "from sklearn.naive_bayes import MultinomialNB\n",
    "from sklearn.svm import SVC\n",
    "from sklearn.metrics import classification_report,confusion_matrix,accuracy_score\n",
    "from sklearn.model_selection import train_test_split\n",
    "\n",
    "# Neural Net imports\n",
    "import keras\n",
    "from keras.layers import Dense,LSTM\n",
    "from keras.models import Sequential"
   ]
  },
  {
   "cell_type": "code",
   "execution_count": 2,
   "metadata": {},
   "outputs": [
    {
     "data": {
      "text/html": [
       "<div>\n",
       "<style scoped>\n",
       "    .dataframe tbody tr th:only-of-type {\n",
       "        vertical-align: middle;\n",
       "    }\n",
       "\n",
       "    .dataframe tbody tr th {\n",
       "        vertical-align: top;\n",
       "    }\n",
       "\n",
       "    .dataframe thead th {\n",
       "        text-align: right;\n",
       "    }\n",
       "</style>\n",
       "<table border=\"1\" class=\"dataframe\">\n",
       "  <thead>\n",
       "    <tr style=\"text-align: right;\">\n",
       "      <th></th>\n",
       "      <th>reviewerID</th>\n",
       "      <th>asin</th>\n",
       "      <th>reviewerName</th>\n",
       "      <th>helpful</th>\n",
       "      <th>reviewText</th>\n",
       "      <th>overall</th>\n",
       "      <th>summary</th>\n",
       "      <th>unixReviewTime</th>\n",
       "      <th>reviewTime</th>\n",
       "    </tr>\n",
       "  </thead>\n",
       "  <tbody>\n",
       "    <tr>\n",
       "      <th>0</th>\n",
       "      <td>A2IBPI20UZIR0U</td>\n",
       "      <td>1384719342</td>\n",
       "      <td>cassandra tu \"Yeah, well, that's just like, u...</td>\n",
       "      <td>[0, 0]</td>\n",
       "      <td>Not much to write about here, but it does exac...</td>\n",
       "      <td>5.0</td>\n",
       "      <td>good</td>\n",
       "      <td>1393545600</td>\n",
       "      <td>02 28, 2014</td>\n",
       "    </tr>\n",
       "    <tr>\n",
       "      <th>1</th>\n",
       "      <td>A14VAT5EAX3D9S</td>\n",
       "      <td>1384719342</td>\n",
       "      <td>Jake</td>\n",
       "      <td>[13, 14]</td>\n",
       "      <td>The product does exactly as it should and is q...</td>\n",
       "      <td>5.0</td>\n",
       "      <td>Jake</td>\n",
       "      <td>1363392000</td>\n",
       "      <td>03 16, 2013</td>\n",
       "    </tr>\n",
       "    <tr>\n",
       "      <th>2</th>\n",
       "      <td>A195EZSQDW3E21</td>\n",
       "      <td>1384719342</td>\n",
       "      <td>Rick Bennette \"Rick Bennette\"</td>\n",
       "      <td>[1, 1]</td>\n",
       "      <td>The primary job of this device is to block the...</td>\n",
       "      <td>5.0</td>\n",
       "      <td>It Does The Job Well</td>\n",
       "      <td>1377648000</td>\n",
       "      <td>08 28, 2013</td>\n",
       "    </tr>\n",
       "    <tr>\n",
       "      <th>3</th>\n",
       "      <td>A2C00NNG1ZQQG2</td>\n",
       "      <td>1384719342</td>\n",
       "      <td>RustyBill \"Sunday Rocker\"</td>\n",
       "      <td>[0, 0]</td>\n",
       "      <td>Nice windscreen protects my MXL mic and preven...</td>\n",
       "      <td>5.0</td>\n",
       "      <td>GOOD WINDSCREEN FOR THE MONEY</td>\n",
       "      <td>1392336000</td>\n",
       "      <td>02 14, 2014</td>\n",
       "    </tr>\n",
       "    <tr>\n",
       "      <th>4</th>\n",
       "      <td>A94QU4C90B1AX</td>\n",
       "      <td>1384719342</td>\n",
       "      <td>SEAN MASLANKA</td>\n",
       "      <td>[0, 0]</td>\n",
       "      <td>This pop filter is great. It looks and perform...</td>\n",
       "      <td>5.0</td>\n",
       "      <td>No more pops when I record my vocals.</td>\n",
       "      <td>1392940800</td>\n",
       "      <td>02 21, 2014</td>\n",
       "    </tr>\n",
       "  </tbody>\n",
       "</table>\n",
       "</div>"
      ],
      "text/plain": [
       "       reviewerID        asin  \\\n",
       "0  A2IBPI20UZIR0U  1384719342   \n",
       "1  A14VAT5EAX3D9S  1384719342   \n",
       "2  A195EZSQDW3E21  1384719342   \n",
       "3  A2C00NNG1ZQQG2  1384719342   \n",
       "4   A94QU4C90B1AX  1384719342   \n",
       "\n",
       "                                       reviewerName   helpful  \\\n",
       "0  cassandra tu \"Yeah, well, that's just like, u...    [0, 0]   \n",
       "1                                              Jake  [13, 14]   \n",
       "2                     Rick Bennette \"Rick Bennette\"    [1, 1]   \n",
       "3                         RustyBill \"Sunday Rocker\"    [0, 0]   \n",
       "4                                     SEAN MASLANKA    [0, 0]   \n",
       "\n",
       "                                          reviewText  overall  \\\n",
       "0  Not much to write about here, but it does exac...      5.0   \n",
       "1  The product does exactly as it should and is q...      5.0   \n",
       "2  The primary job of this device is to block the...      5.0   \n",
       "3  Nice windscreen protects my MXL mic and preven...      5.0   \n",
       "4  This pop filter is great. It looks and perform...      5.0   \n",
       "\n",
       "                                 summary  unixReviewTime   reviewTime  \n",
       "0                                   good      1393545600  02 28, 2014  \n",
       "1                                   Jake      1363392000  03 16, 2013  \n",
       "2                   It Does The Job Well      1377648000  08 28, 2013  \n",
       "3          GOOD WINDSCREEN FOR THE MONEY      1392336000  02 14, 2014  \n",
       "4  No more pops when I record my vocals.      1392940800  02 21, 2014  "
      ]
     },
     "execution_count": 2,
     "metadata": {},
     "output_type": "execute_result"
    }
   ],
   "source": [
    "df = pd.read_csv(\"Musical_instruments_reviews.csv\")\n",
    "df.head()"
   ]
  },
  {
   "cell_type": "code",
   "execution_count": 3,
   "metadata": {},
   "outputs": [
    {
     "data": {
      "text/plain": [
       "(10261, 9)"
      ]
     },
     "execution_count": 3,
     "metadata": {},
     "output_type": "execute_result"
    }
   ],
   "source": [
    "df.shape"
   ]
  },
  {
   "cell_type": "code",
   "execution_count": 4,
   "metadata": {},
   "outputs": [
    {
     "name": "stdout",
     "output_type": "stream",
     "text": [
      "<class 'pandas.core.frame.DataFrame'>\n",
      "RangeIndex: 10261 entries, 0 to 10260\n",
      "Data columns (total 9 columns):\n",
      " #   Column          Non-Null Count  Dtype  \n",
      "---  ------          --------------  -----  \n",
      " 0   reviewerID      10261 non-null  object \n",
      " 1   asin            10261 non-null  object \n",
      " 2   reviewerName    10234 non-null  object \n",
      " 3   helpful         10261 non-null  object \n",
      " 4   reviewText      10254 non-null  object \n",
      " 5   overall         10261 non-null  float64\n",
      " 6   summary         10261 non-null  object \n",
      " 7   unixReviewTime  10261 non-null  int64  \n",
      " 8   reviewTime      10261 non-null  object \n",
      "dtypes: float64(1), int64(1), object(7)\n",
      "memory usage: 721.6+ KB\n"
     ]
    }
   ],
   "source": [
    "df.info()"
   ]
  },
  {
   "cell_type": "code",
   "execution_count": 5,
   "metadata": {
    "scrolled": true
   },
   "outputs": [
    {
     "data": {
      "text/plain": [
       "reviewerID         0\n",
       "asin               0\n",
       "reviewerName      27\n",
       "helpful            0\n",
       "reviewText         7\n",
       "overall            0\n",
       "summary            0\n",
       "unixReviewTime     0\n",
       "reviewTime         0\n",
       "dtype: int64"
      ]
     },
     "execution_count": 5,
     "metadata": {},
     "output_type": "execute_result"
    }
   ],
   "source": [
    "df.isna().sum()"
   ]
  },
  {
   "cell_type": "code",
   "execution_count": 6,
   "metadata": {},
   "outputs": [
    {
     "data": {
      "text/plain": [
       "<matplotlib.axes._subplots.AxesSubplot at 0x7fc66ab59310>"
      ]
     },
     "execution_count": 6,
     "metadata": {},
     "output_type": "execute_result"
    },
    {
     "data": {
      "image/png": "[encoded data removed]",
      "text/plain": [
       "<Figure size 432x288 with 1 Axes>"
      ]
     },
     "metadata": {
      "needs_background": "light"
     },
     "output_type": "display_data"
    }
   ],
   "source": [
    "df.reviewerName.value_counts().hist()"
   ]
  },
  {
   "cell_type": "code",
   "execution_count": 7,
   "metadata": {},
   "outputs": [
    {
     "data": {
      "text/html": [
       "<div>\n",
       "<style scoped>\n",
       "    .dataframe tbody tr th:only-of-type {\n",
       "        vertical-align: middle;\n",
       "    }\n",
       "\n",
       "    .dataframe tbody tr th {\n",
       "        vertical-align: top;\n",
       "    }\n",
       "\n",
       "    .dataframe thead th {\n",
       "        text-align: right;\n",
       "    }\n",
       "</style>\n",
       "<table border=\"1\" class=\"dataframe\">\n",
       "  <thead>\n",
       "    <tr style=\"text-align: right;\">\n",
       "      <th></th>\n",
       "      <th>reviewerID</th>\n",
       "      <th>asin</th>\n",
       "      <th>reviewerName</th>\n",
       "      <th>helpful</th>\n",
       "      <th>reviewText</th>\n",
       "      <th>overall</th>\n",
       "      <th>summary</th>\n",
       "      <th>unixReviewTime</th>\n",
       "      <th>reviewTime</th>\n",
       "    </tr>\n",
       "  </thead>\n",
       "  <tbody>\n",
       "    <tr>\n",
       "      <th>0</th>\n",
       "      <td>A2IBPI20UZIR0U</td>\n",
       "      <td>1384719342</td>\n",
       "      <td>cassandra tu \"Yeah, well, that's just like, u...</td>\n",
       "      <td>[0, 0]</td>\n",
       "      <td>Not much to write about here, but it does exac...</td>\n",
       "      <td>5.0</td>\n",
       "      <td>good</td>\n",
       "      <td>1393545600</td>\n",
       "      <td>02 28, 2014</td>\n",
       "    </tr>\n",
       "    <tr>\n",
       "      <th>1</th>\n",
       "      <td>A14VAT5EAX3D9S</td>\n",
       "      <td>1384719342</td>\n",
       "      <td>Jake</td>\n",
       "      <td>[13, 14]</td>\n",
       "      <td>The product does exactly as it should and is q...</td>\n",
       "      <td>5.0</td>\n",
       "      <td>Jake</td>\n",
       "      <td>1363392000</td>\n",
       "      <td>03 16, 2013</td>\n",
       "    </tr>\n",
       "    <tr>\n",
       "      <th>2</th>\n",
       "      <td>A195EZSQDW3E21</td>\n",
       "      <td>1384719342</td>\n",
       "      <td>Rick Bennette \"Rick Bennette\"</td>\n",
       "      <td>[1, 1]</td>\n",
       "      <td>The primary job of this device is to block the...</td>\n",
       "      <td>5.0</td>\n",
       "      <td>It Does The Job Well</td>\n",
       "      <td>1377648000</td>\n",
       "      <td>08 28, 2013</td>\n",
       "    </tr>\n",
       "    <tr>\n",
       "      <th>3</th>\n",
       "      <td>A2C00NNG1ZQQG2</td>\n",
       "      <td>1384719342</td>\n",
       "      <td>RustyBill \"Sunday Rocker\"</td>\n",
       "      <td>[0, 0]</td>\n",
       "      <td>Nice windscreen protects my MXL mic and preven...</td>\n",
       "      <td>5.0</td>\n",
       "      <td>GOOD WINDSCREEN FOR THE MONEY</td>\n",
       "      <td>1392336000</td>\n",
       "      <td>02 14, 2014</td>\n",
       "    </tr>\n",
       "    <tr>\n",
       "      <th>4</th>\n",
       "      <td>A94QU4C90B1AX</td>\n",
       "      <td>1384719342</td>\n",
       "      <td>SEAN MASLANKA</td>\n",
       "      <td>[0, 0]</td>\n",
       "      <td>This pop filter is great. It looks and perform...</td>\n",
       "      <td>5.0</td>\n",
       "      <td>No more pops when I record my vocals.</td>\n",
       "      <td>1392940800</td>\n",
       "      <td>02 21, 2014</td>\n",
       "    </tr>\n",
       "  </tbody>\n",
       "</table>\n",
       "</div>"
      ],
      "text/plain": [
       "       reviewerID        asin  \\\n",
       "0  A2IBPI20UZIR0U  1384719342   \n",
       "1  A14VAT5EAX3D9S  1384719342   \n",
       "2  A195EZSQDW3E21  1384719342   \n",
       "3  A2C00NNG1ZQQG2  1384719342   \n",
       "4   A94QU4C90B1AX  1384719342   \n",
       "\n",
       "                                       reviewerName   helpful  \\\n",
       "0  cassandra tu \"Yeah, well, that's just like, u...    [0, 0]   \n",
       "1                                              Jake  [13, 14]   \n",
       "2                     Rick Bennette \"Rick Bennette\"    [1, 1]   \n",
       "3                         RustyBill \"Sunday Rocker\"    [0, 0]   \n",
       "4                                     SEAN MASLANKA    [0, 0]   \n",
       "\n",
       "                                          reviewText  overall  \\\n",
       "0  Not much to write about here, but it does exac...      5.0   \n",
       "1  The product does exactly as it should and is q...      5.0   \n",
       "2  The primary job of this device is to block the...      5.0   \n",
       "3  Nice windscreen protects my MXL mic and preven...      5.0   \n",
       "4  This pop filter is great. It looks and perform...      5.0   \n",
       "\n",
       "                                 summary  unixReviewTime   reviewTime  \n",
       "0                                   good      1393545600  02 28, 2014  \n",
       "1                                   Jake      1363392000  03 16, 2013  \n",
       "2                   It Does The Job Well      1377648000  08 28, 2013  \n",
       "3          GOOD WINDSCREEN FOR THE MONEY      1392336000  02 14, 2014  \n",
       "4  No more pops when I record my vocals.      1392940800  02 21, 2014  "
      ]
     },
     "execution_count": 7,
     "metadata": {},
     "output_type": "execute_result"
    }
   ],
   "source": [
    "df.head()"
   ]
  },
  {
   "cell_type": "code",
   "execution_count": 8,
   "metadata": {},
   "outputs": [
    {
     "data": {
      "text/html": [
       "<div>\n",
       "<style scoped>\n",
       "    .dataframe tbody tr th:only-of-type {\n",
       "        vertical-align: middle;\n",
       "    }\n",
       "\n",
       "    .dataframe tbody tr th {\n",
       "        vertical-align: top;\n",
       "    }\n",
       "\n",
       "    .dataframe thead th {\n",
       "        text-align: right;\n",
       "    }\n",
       "</style>\n",
       "<table border=\"1\" class=\"dataframe\">\n",
       "  <thead>\n",
       "    <tr style=\"text-align: right;\">\n",
       "      <th></th>\n",
       "      <th>product_id</th>\n",
       "      <th>rating</th>\n",
       "      <th>summary</th>\n",
       "      <th>full_review</th>\n",
       "      <th>review_length</th>\n",
       "    </tr>\n",
       "  </thead>\n",
       "  <tbody>\n",
       "    <tr>\n",
       "      <th>0</th>\n",
       "      <td>1384719342</td>\n",
       "      <td>5.0</td>\n",
       "      <td>good</td>\n",
       "      <td>Not much to write about here, but it does exac...</td>\n",
       "      <td>273.0</td>\n",
       "    </tr>\n",
       "    <tr>\n",
       "      <th>1</th>\n",
       "      <td>1384719342</td>\n",
       "      <td>5.0</td>\n",
       "      <td>Jake</td>\n",
       "      <td>The product does exactly as it should and is q...</td>\n",
       "      <td>549.0</td>\n",
       "    </tr>\n",
       "    <tr>\n",
       "      <th>2</th>\n",
       "      <td>1384719342</td>\n",
       "      <td>5.0</td>\n",
       "      <td>It Does The Job Well</td>\n",
       "      <td>The primary job of this device is to block the...</td>\n",
       "      <td>457.0</td>\n",
       "    </tr>\n",
       "    <tr>\n",
       "      <th>3</th>\n",
       "      <td>1384719342</td>\n",
       "      <td>5.0</td>\n",
       "      <td>GOOD WINDSCREEN FOR THE MONEY</td>\n",
       "      <td>Nice windscreen protects my MXL mic and preven...</td>\n",
       "      <td>236.0</td>\n",
       "    </tr>\n",
       "    <tr>\n",
       "      <th>4</th>\n",
       "      <td>1384719342</td>\n",
       "      <td>5.0</td>\n",
       "      <td>No more pops when I record my vocals.</td>\n",
       "      <td>This pop filter is great. It looks and perform...</td>\n",
       "      <td>197.0</td>\n",
       "    </tr>\n",
       "  </tbody>\n",
       "</table>\n",
       "</div>"
      ],
      "text/plain": [
       "   product_id  rating                                summary  \\\n",
       "0  1384719342     5.0                                   good   \n",
       "1  1384719342     5.0                                   Jake   \n",
       "2  1384719342     5.0                   It Does The Job Well   \n",
       "3  1384719342     5.0          GOOD WINDSCREEN FOR THE MONEY   \n",
       "4  1384719342     5.0  No more pops when I record my vocals.   \n",
       "\n",
       "                                         full_review  review_length  \n",
       "0  Not much to write about here, but it does exac...          273.0  \n",
       "1  The product does exactly as it should and is q...          549.0  \n",
       "2  The primary job of this device is to block the...          457.0  \n",
       "3  Nice windscreen protects my MXL mic and preven...          236.0  \n",
       "4  This pop filter is great. It looks and perform...          197.0  "
      ]
     },
     "execution_count": 8,
     "metadata": {},
     "output_type": "execute_result"
    }
   ],
   "source": [
    "# Create a full picture of all the relevant text associated with each review\n",
    "df['full_review'] = df['reviewText'] + ' ' + df['summary']\n",
    "\n",
    "# Create a feature that gives us a length of each review\n",
    "df['review_length']  = df['full_review'].str.len()\n",
    "\n",
    "# Drop columns we won't be using\n",
    "df.drop(['reviewText', 'reviewerID', 'reviewerName', 'helpful', 'unixReviewTime', 'reviewTime'], axis=1, inplace=True)\n",
    "\n",
    "# Fix the naming convention for each of the remaining columns\n",
    "df = df.rename(columns={\"asin\": \"product_id\", 'overall':'rating'})\n",
    "\n",
    "# Drop rows with missing values\n",
    "df = df.dropna()\n",
    "\n",
    "df.head()"
   ]
  },
  {
   "cell_type": "markdown",
   "metadata": {},
   "source": [
    "## Exploration and Visualization"
   ]
  },
  {
   "cell_type": "code",
   "execution_count": 9,
   "metadata": {},
   "outputs": [
    {
     "data": {
      "image/png": "[encoded data removed]",
      "text/plain": [
       "<Figure size 1152x648 with 1 Axes>"
      ]
     },
     "metadata": {},
     "output_type": "display_data"
    }
   ],
   "source": [
    "plt.style.use('fivethirtyeight')\n",
    "plt.figure(figsize=(16, 9))\n",
    "sns.countplot(df['rating'], data=df, palette='colorblind')\n",
    "plt.title('Rating Frequency for Amazon Musical Instruments')\n",
    "plt.yticks([0, 1000, 2000, 3000, 4000, 5000, 6000, 7000], ['0', '1K', '2K', '3K', '4K', '5K', '6K', '7K'])\n",
    "plt.ylabel('Total Count')\n",
    "plt.xlabel('Product Rating')\n",
    "plt.show()"
   ]
  },
  {
   "cell_type": "code",
   "execution_count": 10,
   "metadata": {
    "scrolled": false
   },
   "outputs": [
    {
     "data": {
      "image/png": "[encoded data removed]",
      "text/plain": [
       "<Figure size 1152x648 with 1 Axes>"
      ]
     },
     "metadata": {},
     "output_type": "display_data"
    }
   ],
   "source": [
    "# Create a pandas series of the Top 20 Most Common Products\n",
    "top_20 = df['product_id'].value_counts()[:20]\n",
    "\n",
    "color_pal = sns.color_palette(\"colorblind\")\n",
    "plt.figure(figsize=(16, 9))\n",
    "top_20 = df['product_id'].value_counts()[:20]\n",
    "top_20.plot.bar(color=color_pal)\n",
    "plt.title('Top 20 Most Common Products', fontsize = 20)\n",
    "plt.xlabel('Amazon Instrument Product IDs')\n",
    "plt.ylabel('Total Product Count')\n",
    "plt.show()"
   ]
  },
  {
   "cell_type": "code",
   "execution_count": 11,
   "metadata": {
    "scrolled": false
   },
   "outputs": [
    {
     "data": {
      "image/png": "[encoded data removed]",
      "text/plain": [
       "<Figure size 1152x648 with 1 Axes>"
      ]
     },
     "metadata": {},
     "output_type": "display_data"
    }
   ],
   "source": [
    "# \n",
    "df_review_length = df.groupby(['rating'])['review_length'].sum()\n",
    "\n",
    "plt.figure(figsize=(16, 9))\n",
    "color_pal = sns.color_palette(\"colorblind\")\n",
    "\n",
    "df_review_length.plot.bar(color=color_pal, rot=0)\n",
    "\n",
    "plt.title('Total Review Length By Product Rating', fontsize = 20)\n",
    "plt.xlabel('Product Rating')\n",
    "plt.yticks([0, 500000, 1000000, 1500000, 2000000, 2500000, 3000000, 3500000], ['0', '500K', '1M', '1.5M', '2M', '2.5M', '3M', '3.5M'])\n",
    "plt.ylabel('Total Review Length')\n",
    "\n",
    "plt.show()"
   ]
  },
  {
   "cell_type": "code",
   "execution_count": 12,
   "metadata": {
    "scrolled": false
   },
   "outputs": [
    {
     "data": {
      "image/png": "[encoded data removed]",
      "text/plain": [
       "<Figure size 1152x648 with 1 Axes>"
      ]
     },
     "metadata": {},
     "output_type": "display_data"
    }
   ],
   "source": [
    "df_review_length = df.groupby(['rating'])['review_length'].mean()\n",
    "\n",
    "plt.figure(figsize=(16, 9))\n",
    "color_pal = sns.color_palette(\"colorblind\")\n",
    "\n",
    "df_review_length.plot.bar(color=color_pal, rot=0)\n",
    "\n",
    "plt.title('Average Review Length By Product Rating', fontsize = 20)\n",
    "plt.xlabel('Product Rating')\n",
    "plt.ylabel('Average Review Length')\n",
    "\n",
    "plt.show()"
   ]
  },
  {
   "cell_type": "code",
   "execution_count": 13,
   "metadata": {
    "scrolled": false
   },
   "outputs": [
    {
     "data": {
      "image/png": "[encoded data removed]",
      "text/plain": [
       "<Figure size 720x720 with 2 Axes>"
      ]
     },
     "metadata": {},
     "output_type": "display_data"
    }
   ],
   "source": [
    "plt.rcParams['figure.figsize'] = (10, 10)\n",
    "sns.heatmap(df.corr(), square=True, annot=True)\n",
    "plt.title('Numerical Correlations')\n",
    "plt.show()"
   ]
  },
  {
   "cell_type": "code",
   "execution_count": 14,
   "metadata": {},
   "outputs": [
    {
     "data": {
      "text/html": [
       "<div>\n",
       "<style scoped>\n",
       "    .dataframe tbody tr th:only-of-type {\n",
       "        vertical-align: middle;\n",
       "    }\n",
       "\n",
       "    .dataframe tbody tr th {\n",
       "        vertical-align: top;\n",
       "    }\n",
       "\n",
       "    .dataframe thead th {\n",
       "        text-align: right;\n",
       "    }\n",
       "</style>\n",
       "<table border=\"1\" class=\"dataframe\">\n",
       "  <thead>\n",
       "    <tr style=\"text-align: right;\">\n",
       "      <th></th>\n",
       "      <th>product_id</th>\n",
       "      <th>rating</th>\n",
       "      <th>summary</th>\n",
       "      <th>full_review</th>\n",
       "      <th>review_length</th>\n",
       "    </tr>\n",
       "  </thead>\n",
       "  <tbody>\n",
       "    <tr>\n",
       "      <th>0</th>\n",
       "      <td>1384719342</td>\n",
       "      <td>5.0</td>\n",
       "      <td>good</td>\n",
       "      <td>Not much to write about here, but it does exac...</td>\n",
       "      <td>273.0</td>\n",
       "    </tr>\n",
       "    <tr>\n",
       "      <th>1</th>\n",
       "      <td>1384719342</td>\n",
       "      <td>5.0</td>\n",
       "      <td>Jake</td>\n",
       "      <td>The product does exactly as it should and is q...</td>\n",
       "      <td>549.0</td>\n",
       "    </tr>\n",
       "    <tr>\n",
       "      <th>2</th>\n",
       "      <td>1384719342</td>\n",
       "      <td>5.0</td>\n",
       "      <td>It Does The Job Well</td>\n",
       "      <td>The primary job of this device is to block the...</td>\n",
       "      <td>457.0</td>\n",
       "    </tr>\n",
       "    <tr>\n",
       "      <th>3</th>\n",
       "      <td>1384719342</td>\n",
       "      <td>5.0</td>\n",
       "      <td>GOOD WINDSCREEN FOR THE MONEY</td>\n",
       "      <td>Nice windscreen protects my MXL mic and preven...</td>\n",
       "      <td>236.0</td>\n",
       "    </tr>\n",
       "    <tr>\n",
       "      <th>4</th>\n",
       "      <td>1384719342</td>\n",
       "      <td>5.0</td>\n",
       "      <td>No more pops when I record my vocals.</td>\n",
       "      <td>This pop filter is great. It looks and perform...</td>\n",
       "      <td>197.0</td>\n",
       "    </tr>\n",
       "  </tbody>\n",
       "</table>\n",
       "</div>"
      ],
      "text/plain": [
       "   product_id  rating                                summary  \\\n",
       "0  1384719342     5.0                                   good   \n",
       "1  1384719342     5.0                                   Jake   \n",
       "2  1384719342     5.0                   It Does The Job Well   \n",
       "3  1384719342     5.0          GOOD WINDSCREEN FOR THE MONEY   \n",
       "4  1384719342     5.0  No more pops when I record my vocals.   \n",
       "\n",
       "                                         full_review  review_length  \n",
       "0  Not much to write about here, but it does exac...          273.0  \n",
       "1  The product does exactly as it should and is q...          549.0  \n",
       "2  The primary job of this device is to block the...          457.0  \n",
       "3  Nice windscreen protects my MXL mic and preven...          236.0  \n",
       "4  This pop filter is great. It looks and perform...          197.0  "
      ]
     },
     "execution_count": 14,
     "metadata": {},
     "output_type": "execute_result"
    }
   ],
   "source": [
    "df.head()"
   ]
  },
  {
   "cell_type": "markdown",
   "metadata": {},
   "source": [
    "## NLP Processing and Modeling"
   ]
  },
  {
   "cell_type": "code",
   "execution_count": 15,
   "metadata": {},
   "outputs": [],
   "source": [
    "# def clean(text: str) -> list:\n",
    "#     'A simple function to cleanup text data'\n",
    "    \n",
    "#     wnl = nltk.stem.WordNetLemmatizer()\n",
    "#     stopwords = nltk.corpus.stopwords.words('english')\n",
    "#     text = (text.encode('ascii', 'ignore')\n",
    "#              .decode('utf-8', 'ignore')\n",
    "#              .lower())\n",
    "#     words = re.sub(r'[^\\w\\s]', '', text).split() # tokenization\n",
    "#     return [wnl.lemmatize(word) for word in words if word not in stopwords]\n",
    "\n",
    "# corpus = clean(' '.join(df.full_review))\n",
    "\n",
    "# def listToString(s):  \n",
    "    \n",
    "#     # initialize an empty string \n",
    "#     str1 = \" \" \n",
    "    \n",
    "#     # return string   \n",
    "#     return (str1.join(s)) \n",
    "\n",
    "# #w = corpus\n",
    "\n",
    "# corpus_str = listToString(corpus)\n",
    "\n",
    "# d = path.dirname(__file__) if \"__file__\" in locals() else os.getcwd()\n",
    "\n",
    "# # Read the whole text.\n",
    "# #text = ham_str\n",
    "\n",
    "# # read the mask / color image taken from\n",
    "# # http://jirkavinse.deviantart.com/art/quot-Real-Life-quot-Alice-282261010\n",
    "# coloring = np.array(Image.open(path.join(d, \"Amazon-logo.jpg\")))\n",
    "# stopwords = set(STOPWORDS)\n",
    "# #stopwords.add(\"said\")\n",
    "\n",
    "# wc = WordCloud(background_color=\"white\", max_words=2000, mask=coloring,\n",
    "#                stopwords=stopwords, max_font_size=40, random_state=42)\n",
    "# # generate word cloud\n",
    "# wc.generate(corpus_str)\n",
    "\n",
    "# # create coloring from image\n",
    "# image_colors = ImageColorGenerator(coloring)\n",
    "\n",
    "# plt.imshow(wc, interpolation='bilinear')\n",
    "# plt.axis(\"off\")\n",
    "# #plt.figure()\n",
    "# fig1 = plt.gcf()\n",
    "# plt.show()\n",
    "# plt.draw()\n",
    "# fig1.savefig(\"amazon_nlp_word_cloud.png\", bbox_inches='tight', dpi=600)"
   ]
  },
  {
   "cell_type": "markdown",
   "metadata": {},
   "source": [
    "## Modeling"
   ]
  },
  {
   "cell_type": "code",
   "execution_count": 16,
   "metadata": {},
   "outputs": [
    {
     "data": {
      "text/html": [
       "<div>\n",
       "<style scoped>\n",
       "    .dataframe tbody tr th:only-of-type {\n",
       "        vertical-align: middle;\n",
       "    }\n",
       "\n",
       "    .dataframe tbody tr th {\n",
       "        vertical-align: top;\n",
       "    }\n",
       "\n",
       "    .dataframe thead th {\n",
       "        text-align: right;\n",
       "    }\n",
       "</style>\n",
       "<table border=\"1\" class=\"dataframe\">\n",
       "  <thead>\n",
       "    <tr style=\"text-align: right;\">\n",
       "      <th></th>\n",
       "      <th>product_id</th>\n",
       "      <th>rating</th>\n",
       "      <th>summary</th>\n",
       "      <th>full_review</th>\n",
       "      <th>review_length</th>\n",
       "    </tr>\n",
       "  </thead>\n",
       "  <tbody>\n",
       "    <tr>\n",
       "      <th>0</th>\n",
       "      <td>1384719342</td>\n",
       "      <td>5.0</td>\n",
       "      <td>good</td>\n",
       "      <td>Not much to write about here, but it does exac...</td>\n",
       "      <td>273.0</td>\n",
       "    </tr>\n",
       "    <tr>\n",
       "      <th>1</th>\n",
       "      <td>1384719342</td>\n",
       "      <td>5.0</td>\n",
       "      <td>Jake</td>\n",
       "      <td>The product does exactly as it should and is q...</td>\n",
       "      <td>549.0</td>\n",
       "    </tr>\n",
       "    <tr>\n",
       "      <th>2</th>\n",
       "      <td>1384719342</td>\n",
       "      <td>5.0</td>\n",
       "      <td>It Does The Job Well</td>\n",
       "      <td>The primary job of this device is to block the...</td>\n",
       "      <td>457.0</td>\n",
       "    </tr>\n",
       "    <tr>\n",
       "      <th>3</th>\n",
       "      <td>1384719342</td>\n",
       "      <td>5.0</td>\n",
       "      <td>GOOD WINDSCREEN FOR THE MONEY</td>\n",
       "      <td>Nice windscreen protects my MXL mic and preven...</td>\n",
       "      <td>236.0</td>\n",
       "    </tr>\n",
       "    <tr>\n",
       "      <th>4</th>\n",
       "      <td>1384719342</td>\n",
       "      <td>5.0</td>\n",
       "      <td>No more pops when I record my vocals.</td>\n",
       "      <td>This pop filter is great. It looks and perform...</td>\n",
       "      <td>197.0</td>\n",
       "    </tr>\n",
       "  </tbody>\n",
       "</table>\n",
       "</div>"
      ],
      "text/plain": [
       "   product_id  rating                                summary  \\\n",
       "0  1384719342     5.0                                   good   \n",
       "1  1384719342     5.0                                   Jake   \n",
       "2  1384719342     5.0                   It Does The Job Well   \n",
       "3  1384719342     5.0          GOOD WINDSCREEN FOR THE MONEY   \n",
       "4  1384719342     5.0  No more pops when I record my vocals.   \n",
       "\n",
       "                                         full_review  review_length  \n",
       "0  Not much to write about here, but it does exac...          273.0  \n",
       "1  The product does exactly as it should and is q...          549.0  \n",
       "2  The primary job of this device is to block the...          457.0  \n",
       "3  Nice windscreen protects my MXL mic and preven...          236.0  \n",
       "4  This pop filter is great. It looks and perform...          197.0  "
      ]
     },
     "execution_count": 16,
     "metadata": {},
     "output_type": "execute_result"
    }
   ],
   "source": [
    "df.head()"
   ]
  },
  {
   "cell_type": "code",
   "execution_count": 17,
   "metadata": {},
   "outputs": [
    {
     "data": {
      "text/plain": [
       "5.0    6932\n",
       "4.0    2083\n",
       "3.0     772\n",
       "2.0     250\n",
       "1.0     217\n",
       "Name: rating, dtype: int64"
      ]
     },
     "execution_count": 17,
     "metadata": {},
     "output_type": "execute_result"
    }
   ],
   "source": [
    "df.rating.value_counts()"
   ]
  },
  {
   "cell_type": "code",
   "execution_count": 18,
   "metadata": {},
   "outputs": [],
   "source": [
    "# Sentiment function for creating \"sentiment\" feature/column\n",
    "def sentiment(rating):\n",
    "    if(int(rating) == 1 or int(rating) == 2 or int(rating) == 3):\n",
    "        return 0\n",
    "    else: \n",
    "        return 1\n",
    "    \n",
    "# Add a new column to the dataframe with this encoded sentiment\n",
    "df['rating_sentiment'] = df.rating.apply(sentiment) "
   ]
  },
  {
   "cell_type": "code",
   "execution_count": 19,
   "metadata": {},
   "outputs": [
    {
     "data": {
      "text/plain": [
       "1    9015\n",
       "0    1239\n",
       "Name: rating_sentiment, dtype: int64"
      ]
     },
     "execution_count": 19,
     "metadata": {},
     "output_type": "execute_result"
    }
   ],
   "source": [
    "df.rating_sentiment.value_counts()"
   ]
  },
  {
   "cell_type": "code",
   "execution_count": 20,
   "metadata": {},
   "outputs": [
    {
     "data": {
      "text/html": [
       "<div>\n",
       "<style scoped>\n",
       "    .dataframe tbody tr th:only-of-type {\n",
       "        vertical-align: middle;\n",
       "    }\n",
       "\n",
       "    .dataframe tbody tr th {\n",
       "        vertical-align: top;\n",
       "    }\n",
       "\n",
       "    .dataframe thead th {\n",
       "        text-align: right;\n",
       "    }\n",
       "</style>\n",
       "<table border=\"1\" class=\"dataframe\">\n",
       "  <thead>\n",
       "    <tr style=\"text-align: right;\">\n",
       "      <th></th>\n",
       "      <th>product_id</th>\n",
       "      <th>rating</th>\n",
       "      <th>summary</th>\n",
       "      <th>full_review</th>\n",
       "      <th>review_length</th>\n",
       "      <th>rating_sentiment</th>\n",
       "    </tr>\n",
       "  </thead>\n",
       "  <tbody>\n",
       "    <tr>\n",
       "      <th>6012</th>\n",
       "      <td>B0010CZ8GS</td>\n",
       "      <td>5.0</td>\n",
       "      <td>Well make, good looking.</td>\n",
       "      <td>It's well make and cheap compare with other pr...</td>\n",
       "      <td>221.0</td>\n",
       "      <td>1</td>\n",
       "    </tr>\n",
       "    <tr>\n",
       "      <th>9400</th>\n",
       "      <td>B005SUS1JO</td>\n",
       "      <td>3.0</td>\n",
       "      <td>whats more metal than metal to your strings?</td>\n",
       "      <td>while the product is everything it said it wou...</td>\n",
       "      <td>257.0</td>\n",
       "      <td>0</td>\n",
       "    </tr>\n",
       "    <tr>\n",
       "      <th>8161</th>\n",
       "      <td>B003VWJ2K8</td>\n",
       "      <td>5.0</td>\n",
       "      <td>great little tuner</td>\n",
       "      <td>There are a TON of reviews here, and I don't h...</td>\n",
       "      <td>593.0</td>\n",
       "      <td>1</td>\n",
       "    </tr>\n",
       "    <tr>\n",
       "      <th>4087</th>\n",
       "      <td>B0009RLE5Y</td>\n",
       "      <td>5.0</td>\n",
       "      <td>My concerns were unfounded</td>\n",
       "      <td>I was concerned when I bought this that my mic...</td>\n",
       "      <td>326.0</td>\n",
       "      <td>1</td>\n",
       "    </tr>\n",
       "    <tr>\n",
       "      <th>2140</th>\n",
       "      <td>B0002F7K7Y</td>\n",
       "      <td>5.0</td>\n",
       "      <td>Excelente!!</td>\n",
       "      <td>como siempre esta marca con sus productos de c...</td>\n",
       "      <td>126.0</td>\n",
       "      <td>1</td>\n",
       "    </tr>\n",
       "    <tr>\n",
       "      <th>2842</th>\n",
       "      <td>B0002H0A3S</td>\n",
       "      <td>5.0</td>\n",
       "      <td>Great Choice</td>\n",
       "      <td>Got the 3 pack and oh what a great difference ...</td>\n",
       "      <td>828.0</td>\n",
       "      <td>1</td>\n",
       "    </tr>\n",
       "    <tr>\n",
       "      <th>7157</th>\n",
       "      <td>B0027M30Z6</td>\n",
       "      <td>5.0</td>\n",
       "      <td>Great amp, especially for the price</td>\n",
       "      <td>The HoneyTone is aptly named.  It has a long r...</td>\n",
       "      <td>979.0</td>\n",
       "      <td>1</td>\n",
       "    </tr>\n",
       "    <tr>\n",
       "      <th>2331</th>\n",
       "      <td>B0002GLDQM</td>\n",
       "      <td>5.0</td>\n",
       "      <td>Very good product</td>\n",
       "      <td>I have mi picks available and all in the same ...</td>\n",
       "      <td>153.0</td>\n",
       "      <td>1</td>\n",
       "    </tr>\n",
       "    <tr>\n",
       "      <th>6550</th>\n",
       "      <td>B001GH4H3W</td>\n",
       "      <td>5.0</td>\n",
       "      <td>Handy tool to keep from waking up the family</td>\n",
       "      <td>This device has been a blessing for my bass gu...</td>\n",
       "      <td>424.0</td>\n",
       "      <td>1</td>\n",
       "    </tr>\n",
       "    <tr>\n",
       "      <th>6465</th>\n",
       "      <td>B001EL6I8W</td>\n",
       "      <td>5.0</td>\n",
       "      <td>Great ukulele for a great price!</td>\n",
       "      <td>Great ukulele! Very light which is nice. Inton...</td>\n",
       "      <td>227.0</td>\n",
       "      <td>1</td>\n",
       "    </tr>\n",
       "  </tbody>\n",
       "</table>\n",
       "</div>"
      ],
      "text/plain": [
       "      product_id  rating                                       summary  \\\n",
       "6012  B0010CZ8GS     5.0                      Well make, good looking.   \n",
       "9400  B005SUS1JO     3.0  whats more metal than metal to your strings?   \n",
       "8161  B003VWJ2K8     5.0                            great little tuner   \n",
       "4087  B0009RLE5Y     5.0                    My concerns were unfounded   \n",
       "2140  B0002F7K7Y     5.0                                   Excelente!!   \n",
       "2842  B0002H0A3S     5.0                                  Great Choice   \n",
       "7157  B0027M30Z6     5.0           Great amp, especially for the price   \n",
       "2331  B0002GLDQM     5.0                             Very good product   \n",
       "6550  B001GH4H3W     5.0  Handy tool to keep from waking up the family   \n",
       "6465  B001EL6I8W     5.0              Great ukulele for a great price!   \n",
       "\n",
       "                                            full_review  review_length  \\\n",
       "6012  It's well make and cheap compare with other pr...          221.0   \n",
       "9400  while the product is everything it said it wou...          257.0   \n",
       "8161  There are a TON of reviews here, and I don't h...          593.0   \n",
       "4087  I was concerned when I bought this that my mic...          326.0   \n",
       "2140  como siempre esta marca con sus productos de c...          126.0   \n",
       "2842  Got the 3 pack and oh what a great difference ...          828.0   \n",
       "7157  The HoneyTone is aptly named.  It has a long r...          979.0   \n",
       "2331  I have mi picks available and all in the same ...          153.0   \n",
       "6550  This device has been a blessing for my bass gu...          424.0   \n",
       "6465  Great ukulele! Very light which is nice. Inton...          227.0   \n",
       "\n",
       "      rating_sentiment  \n",
       "6012                 1  \n",
       "9400                 0  \n",
       "8161                 1  \n",
       "4087                 1  \n",
       "2140                 1  \n",
       "2842                 1  \n",
       "7157                 1  \n",
       "2331                 1  \n",
       "6550                 1  \n",
       "6465                 1  "
      ]
     },
     "execution_count": 20,
     "metadata": {},
     "output_type": "execute_result"
    }
   ],
   "source": [
    "df.sample(10)"
   ]
  },
  {
   "cell_type": "code",
   "execution_count": 21,
   "metadata": {},
   "outputs": [],
   "source": [
    "def basic_clean(df, col):\n",
    "    '''\n",
    "    This function takes in a df and a string for a column and\n",
    "    returns the df with a new column named 'basic_clean' with the\n",
    "    passed column text normalized.\n",
    "    '''\n",
    "    df['basic_clean'] = df[col].str.lower()\\\n",
    "                    .replace(r'[^\\w\\s]', '', regex=True)\\\n",
    "                    .str.normalize('NFKC')\\\n",
    "                    .str.encode('ascii', 'ignore')\\\n",
    "                    .str.decode('utf-8', 'ignore')\n",
    "    return df\n",
    "\n",
    "def tokenize(df, col):\n",
    "    '''\n",
    "    This function takes in a df and a string for a column and\n",
    "    returns a df with a new column named 'clean_tokes' with the\n",
    "    passed column text tokenized and in a list.\n",
    "    '''\n",
    "    tokenizer = nltk.tokenize.ToktokTokenizer()\n",
    "    df['clean_tokes'] = df[col].apply(tokenizer.tokenize)\n",
    "    return df\n",
    "\n",
    "def stem(df, col):\n",
    "    '''\n",
    "    This function takes in a df and a string for a column name and\n",
    "    returns a df with a new column named 'stemmed'.\n",
    "    '''\n",
    "    # Create porter stemmer\n",
    "    ps = nltk.porter.PorterStemmer()\n",
    "    \n",
    "    # Stem each token from our clean_tokes Series of lists\n",
    "    stems = df[col].apply(lambda row: [ps.stem(word) for word in row])\n",
    "    \n",
    "    # Join our cleaned, stemmed lists of words back into sentences\n",
    "    df['stemmed'] = stems.str.join(' ')\n",
    "    \n",
    "    return df\n",
    "\n",
    "def lemmatize(df, col):\n",
    "    '''\n",
    "    This function takes in a df and a string for column name and\n",
    "    returns the original df with a new column called 'lemmatized'.\n",
    "    '''\n",
    "    # Create the lemmatizer\n",
    "    wnl = nltk.stem.WordNetLemmatizer()\n",
    "    \n",
    "    # Lemmatize each token from our clean_tokes Series of lists\n",
    "    lemmas = df[col].apply(lambda row: [wnl.lemmatize(word) for word in row])\n",
    "    \n",
    "    # Join the cleaned and lemmatized tokens back into sentences\n",
    "    df['lemmatized'] = lemmas.str.join(' ')\n",
    "    return df\n",
    "\n",
    "def remove_stopwords(df, col):\n",
    "    '''\n",
    "    This function takes in a df and a string for column name and \n",
    "    returns the df with a new column named 'clean' with stopwords removed.\n",
    "    '''\n",
    "    # Create stopword_list\n",
    "    stopword_list = nltk.corpus.stopwords.words('english')\n",
    "    stopword_list.extend('&#9;')\n",
    "    \n",
    "    # Split words in column\n",
    "    words = df[col].str.split()\n",
    "    \n",
    "    # Check each word in each row of the column against stopword_list and return only those that are not in list\n",
    "    filtered_words = words.apply(lambda row: [word for word in row if word not in stopword_list])\n",
    "    \n",
    "    # Create new column of words that have stopwords removed\n",
    "    df['clean_' + col] = filtered_words.str.join(' ')\n",
    "    \n",
    "    return df\n",
    "\n",
    "def prep_nlp_data(df):\n",
    "    '''\n",
    "    This function takes in the github repo df and\n",
    "    returns the df with original columns plus cleaned\n",
    "    and lemmatized content without stopwords.\n",
    "    '''\n",
    "\n",
    "    # Do basic clean on repo content\n",
    "    df = basic_clean(df, 'full_review')\n",
    "    \n",
    "    # Tokenize clean content\n",
    "    df = tokenize(df, 'basic_clean')\n",
    "    \n",
    "    # Stem cleaned and tokenized content\n",
    "    df = stem(df, 'clean_tokes')\n",
    "    \n",
    "    # Lemmatize cleaned and tokenized content\n",
    "    df = lemmatize(df, 'clean_tokes')\n",
    "    \n",
    "    # Remove stopwords from Lemmatized content\n",
    "    df = remove_stopwords(df, 'lemmatized')\n",
    "    \n",
    "    return df"
   ]
  },
  {
   "cell_type": "code",
   "execution_count": 22,
   "metadata": {},
   "outputs": [
    {
     "data": {
      "text/html": [
       "<div>\n",
       "<style scoped>\n",
       "    .dataframe tbody tr th:only-of-type {\n",
       "        vertical-align: middle;\n",
       "    }\n",
       "\n",
       "    .dataframe tbody tr th {\n",
       "        vertical-align: top;\n",
       "    }\n",
       "\n",
       "    .dataframe thead th {\n",
       "        text-align: right;\n",
       "    }\n",
       "</style>\n",
       "<table border=\"1\" class=\"dataframe\">\n",
       "  <thead>\n",
       "    <tr style=\"text-align: right;\">\n",
       "      <th></th>\n",
       "      <th>product_id</th>\n",
       "      <th>rating</th>\n",
       "      <th>summary</th>\n",
       "      <th>full_review</th>\n",
       "      <th>review_length</th>\n",
       "      <th>rating_sentiment</th>\n",
       "      <th>basic_clean</th>\n",
       "      <th>clean_tokes</th>\n",
       "      <th>stemmed</th>\n",
       "      <th>lemmatized</th>\n",
       "      <th>clean_lemmatized</th>\n",
       "    </tr>\n",
       "  </thead>\n",
       "  <tbody>\n",
       "    <tr>\n",
       "      <th>0</th>\n",
       "      <td>1384719342</td>\n",
       "      <td>5.0</td>\n",
       "      <td>good</td>\n",
       "      <td>Not much to write about here, but it does exac...</td>\n",
       "      <td>273.0</td>\n",
       "      <td>1</td>\n",
       "      <td>not much to write about here but it does exact...</td>\n",
       "      <td>[not, much, to, write, about, here, but, it, d...</td>\n",
       "      <td>not much to write about here but it doe exactl...</td>\n",
       "      <td>not much to write about here but it doe exactl...</td>\n",
       "      <td>much write doe exactly supposed filter pop sou...</td>\n",
       "    </tr>\n",
       "    <tr>\n",
       "      <th>1</th>\n",
       "      <td>1384719342</td>\n",
       "      <td>5.0</td>\n",
       "      <td>Jake</td>\n",
       "      <td>The product does exactly as it should and is q...</td>\n",
       "      <td>549.0</td>\n",
       "      <td>1</td>\n",
       "      <td>the product does exactly as it should and is q...</td>\n",
       "      <td>[the, product, does, exactly, as, it, should, ...</td>\n",
       "      <td>the product doe exactli as it should and is qu...</td>\n",
       "      <td>the product doe exactly a it should and is qui...</td>\n",
       "      <td>product doe exactly quite affordablei realized...</td>\n",
       "    </tr>\n",
       "    <tr>\n",
       "      <th>2</th>\n",
       "      <td>1384719342</td>\n",
       "      <td>5.0</td>\n",
       "      <td>It Does The Job Well</td>\n",
       "      <td>The primary job of this device is to block the...</td>\n",
       "      <td>457.0</td>\n",
       "      <td>1</td>\n",
       "      <td>the primary job of this device is to block the...</td>\n",
       "      <td>[the, primary, job, of, this, device, is, to, ...</td>\n",
       "      <td>the primari job of thi devic is to block the b...</td>\n",
       "      <td>the primary job of this device is to block the...</td>\n",
       "      <td>primary job device block breath would otherwis...</td>\n",
       "    </tr>\n",
       "    <tr>\n",
       "      <th>3</th>\n",
       "      <td>1384719342</td>\n",
       "      <td>5.0</td>\n",
       "      <td>GOOD WINDSCREEN FOR THE MONEY</td>\n",
       "      <td>Nice windscreen protects my MXL mic and preven...</td>\n",
       "      <td>236.0</td>\n",
       "      <td>1</td>\n",
       "      <td>nice windscreen protects my mxl mic and preven...</td>\n",
       "      <td>[nice, windscreen, protects, my, mxl, mic, and...</td>\n",
       "      <td>nice windscreen protect my mxl mic and prevent...</td>\n",
       "      <td>nice windscreen protects my mxl mic and preven...</td>\n",
       "      <td>nice windscreen protects mxl mic prevents pop ...</td>\n",
       "    </tr>\n",
       "    <tr>\n",
       "      <th>4</th>\n",
       "      <td>1384719342</td>\n",
       "      <td>5.0</td>\n",
       "      <td>No more pops when I record my vocals.</td>\n",
       "      <td>This pop filter is great. It looks and perform...</td>\n",
       "      <td>197.0</td>\n",
       "      <td>1</td>\n",
       "      <td>this pop filter is great it looks and performs...</td>\n",
       "      <td>[this, pop, filter, is, great, it, looks, and,...</td>\n",
       "      <td>thi pop filter is great it look and perform li...</td>\n",
       "      <td>this pop filter is great it look and performs ...</td>\n",
       "      <td>pop filter great look performs like studio fil...</td>\n",
       "    </tr>\n",
       "    <tr>\n",
       "      <th>...</th>\n",
       "      <td>...</td>\n",
       "      <td>...</td>\n",
       "      <td>...</td>\n",
       "      <td>...</td>\n",
       "      <td>...</td>\n",
       "      <td>...</td>\n",
       "      <td>...</td>\n",
       "      <td>...</td>\n",
       "      <td>...</td>\n",
       "      <td>...</td>\n",
       "      <td>...</td>\n",
       "    </tr>\n",
       "    <tr>\n",
       "      <th>10256</th>\n",
       "      <td>B00JBIVXGC</td>\n",
       "      <td>5.0</td>\n",
       "      <td>Five Stars</td>\n",
       "      <td>Great, just as expected.  Thank to all. Five S...</td>\n",
       "      <td>50.0</td>\n",
       "      <td>1</td>\n",
       "      <td>great just as expected  thank to all five stars</td>\n",
       "      <td>[great, just, as, expected, thank, to, all, fi...</td>\n",
       "      <td>great just as expect thank to all five star</td>\n",
       "      <td>great just a expected thank to all five star</td>\n",
       "      <td>great expected thank five star</td>\n",
       "    </tr>\n",
       "    <tr>\n",
       "      <th>10257</th>\n",
       "      <td>B00JBIVXGC</td>\n",
       "      <td>5.0</td>\n",
       "      <td>Long life, and for some players, a good econom...</td>\n",
       "      <td>I've been thinking about trying the Nanoweb st...</td>\n",
       "      <td>3088.0</td>\n",
       "      <td>1</td>\n",
       "      <td>ive been thinking about trying the nanoweb str...</td>\n",
       "      <td>[ive, been, thinking, about, trying, the, nano...</td>\n",
       "      <td>ive been think about tri the nanoweb string fo...</td>\n",
       "      <td>ive been thinking about trying the nanoweb str...</td>\n",
       "      <td>ive thinking trying nanoweb string wa bit put ...</td>\n",
       "    </tr>\n",
       "    <tr>\n",
       "      <th>10258</th>\n",
       "      <td>B00JBIVXGC</td>\n",
       "      <td>4.0</td>\n",
       "      <td>Good for coated.</td>\n",
       "      <td>I have tried coated strings in the past ( incl...</td>\n",
       "      <td>636.0</td>\n",
       "      <td>1</td>\n",
       "      <td>i have tried coated strings in the past  inclu...</td>\n",
       "      <td>[i, have, tried, coated, strings, in, the, pas...</td>\n",
       "      <td>i have tri coat string in the past includ elix...</td>\n",
       "      <td>i have tried coated string in the past includi...</td>\n",
       "      <td>tried coated string past including elixir neve...</td>\n",
       "    </tr>\n",
       "    <tr>\n",
       "      <th>10259</th>\n",
       "      <td>B00JBIVXGC</td>\n",
       "      <td>4.0</td>\n",
       "      <td>Taylor Made</td>\n",
       "      <td>Well, MADE by Elixir and DEVELOPED with Taylor...</td>\n",
       "      <td>1656.0</td>\n",
       "      <td>1</td>\n",
       "      <td>well made by elixir and developed with taylor ...</td>\n",
       "      <td>[well, made, by, elixir, and, developed, with,...</td>\n",
       "      <td>well made by elixir and develop with taylor gu...</td>\n",
       "      <td>well made by elixir and developed with taylor ...</td>\n",
       "      <td>well made elixir developed taylor guitar strin...</td>\n",
       "    </tr>\n",
       "    <tr>\n",
       "      <th>10260</th>\n",
       "      <td>B00JBIVXGC</td>\n",
       "      <td>4.0</td>\n",
       "      <td>These strings are really quite good, but I wou...</td>\n",
       "      <td>These strings are really quite good, but I wou...</td>\n",
       "      <td>682.0</td>\n",
       "      <td>1</td>\n",
       "      <td>these strings are really quite good but i woul...</td>\n",
       "      <td>[these, strings, are, really, quite, good, but...</td>\n",
       "      <td>these string are realli quit good but i wouldn...</td>\n",
       "      <td>these string are really quite good but i would...</td>\n",
       "      <td>string really quite good wouldnt call perfect ...</td>\n",
       "    </tr>\n",
       "  </tbody>\n",
       "</table>\n",
       "<p>10254 rows × 11 columns</p>\n",
       "</div>"
      ],
      "text/plain": [
       "       product_id  rating                                            summary  \\\n",
       "0      1384719342     5.0                                               good   \n",
       "1      1384719342     5.0                                               Jake   \n",
       "2      1384719342     5.0                               It Does The Job Well   \n",
       "3      1384719342     5.0                      GOOD WINDSCREEN FOR THE MONEY   \n",
       "4      1384719342     5.0              No more pops when I record my vocals.   \n",
       "...           ...     ...                                                ...   \n",
       "10256  B00JBIVXGC     5.0                                         Five Stars   \n",
       "10257  B00JBIVXGC     5.0  Long life, and for some players, a good econom...   \n",
       "10258  B00JBIVXGC     4.0                                   Good for coated.   \n",
       "10259  B00JBIVXGC     4.0                                        Taylor Made   \n",
       "10260  B00JBIVXGC     4.0  These strings are really quite good, but I wou...   \n",
       "\n",
       "                                             full_review  review_length  \\\n",
       "0      Not much to write about here, but it does exac...          273.0   \n",
       "1      The product does exactly as it should and is q...          549.0   \n",
       "2      The primary job of this device is to block the...          457.0   \n",
       "3      Nice windscreen protects my MXL mic and preven...          236.0   \n",
       "4      This pop filter is great. It looks and perform...          197.0   \n",
       "...                                                  ...            ...   \n",
       "10256  Great, just as expected.  Thank to all. Five S...           50.0   \n",
       "10257  I've been thinking about trying the Nanoweb st...         3088.0   \n",
       "10258  I have tried coated strings in the past ( incl...          636.0   \n",
       "10259  Well, MADE by Elixir and DEVELOPED with Taylor...         1656.0   \n",
       "10260  These strings are really quite good, but I wou...          682.0   \n",
       "\n",
       "       rating_sentiment                                        basic_clean  \\\n",
       "0                     1  not much to write about here but it does exact...   \n",
       "1                     1  the product does exactly as it should and is q...   \n",
       "2                     1  the primary job of this device is to block the...   \n",
       "3                     1  nice windscreen protects my mxl mic and preven...   \n",
       "4                     1  this pop filter is great it looks and performs...   \n",
       "...                 ...                                                ...   \n",
       "10256                 1    great just as expected  thank to all five stars   \n",
       "10257                 1  ive been thinking about trying the nanoweb str...   \n",
       "10258                 1  i have tried coated strings in the past  inclu...   \n",
       "10259                 1  well made by elixir and developed with taylor ...   \n",
       "10260                 1  these strings are really quite good but i woul...   \n",
       "\n",
       "                                             clean_tokes  \\\n",
       "0      [not, much, to, write, about, here, but, it, d...   \n",
       "1      [the, product, does, exactly, as, it, should, ...   \n",
       "2      [the, primary, job, of, this, device, is, to, ...   \n",
       "3      [nice, windscreen, protects, my, mxl, mic, and...   \n",
       "4      [this, pop, filter, is, great, it, looks, and,...   \n",
       "...                                                  ...   \n",
       "10256  [great, just, as, expected, thank, to, all, fi...   \n",
       "10257  [ive, been, thinking, about, trying, the, nano...   \n",
       "10258  [i, have, tried, coated, strings, in, the, pas...   \n",
       "10259  [well, made, by, elixir, and, developed, with,...   \n",
       "10260  [these, strings, are, really, quite, good, but...   \n",
       "\n",
       "                                                 stemmed  \\\n",
       "0      not much to write about here but it doe exactl...   \n",
       "1      the product doe exactli as it should and is qu...   \n",
       "2      the primari job of thi devic is to block the b...   \n",
       "3      nice windscreen protect my mxl mic and prevent...   \n",
       "4      thi pop filter is great it look and perform li...   \n",
       "...                                                  ...   \n",
       "10256        great just as expect thank to all five star   \n",
       "10257  ive been think about tri the nanoweb string fo...   \n",
       "10258  i have tri coat string in the past includ elix...   \n",
       "10259  well made by elixir and develop with taylor gu...   \n",
       "10260  these string are realli quit good but i wouldn...   \n",
       "\n",
       "                                              lemmatized  \\\n",
       "0      not much to write about here but it doe exactl...   \n",
       "1      the product doe exactly a it should and is qui...   \n",
       "2      the primary job of this device is to block the...   \n",
       "3      nice windscreen protects my mxl mic and preven...   \n",
       "4      this pop filter is great it look and performs ...   \n",
       "...                                                  ...   \n",
       "10256       great just a expected thank to all five star   \n",
       "10257  ive been thinking about trying the nanoweb str...   \n",
       "10258  i have tried coated string in the past includi...   \n",
       "10259  well made by elixir and developed with taylor ...   \n",
       "10260  these string are really quite good but i would...   \n",
       "\n",
       "                                        clean_lemmatized  \n",
       "0      much write doe exactly supposed filter pop sou...  \n",
       "1      product doe exactly quite affordablei realized...  \n",
       "2      primary job device block breath would otherwis...  \n",
       "3      nice windscreen protects mxl mic prevents pop ...  \n",
       "4      pop filter great look performs like studio fil...  \n",
       "...                                                  ...  \n",
       "10256                     great expected thank five star  \n",
       "10257  ive thinking trying nanoweb string wa bit put ...  \n",
       "10258  tried coated string past including elixir neve...  \n",
       "10259  well made elixir developed taylor guitar strin...  \n",
       "10260  string really quite good wouldnt call perfect ...  \n",
       "\n",
       "[10254 rows x 11 columns]"
      ]
     },
     "execution_count": 22,
     "metadata": {},
     "output_type": "execute_result"
    }
   ],
   "source": [
    "prep_nlp_data(df)"
   ]
  },
  {
   "cell_type": "code",
   "execution_count": 23,
   "metadata": {},
   "outputs": [
    {
     "data": {
      "text/html": [
       "<div>\n",
       "<style scoped>\n",
       "    .dataframe tbody tr th:only-of-type {\n",
       "        vertical-align: middle;\n",
       "    }\n",
       "\n",
       "    .dataframe tbody tr th {\n",
       "        vertical-align: top;\n",
       "    }\n",
       "\n",
       "    .dataframe thead th {\n",
       "        text-align: right;\n",
       "    }\n",
       "</style>\n",
       "<table border=\"1\" class=\"dataframe\">\n",
       "  <thead>\n",
       "    <tr style=\"text-align: right;\">\n",
       "      <th></th>\n",
       "      <th>product_id</th>\n",
       "      <th>rating</th>\n",
       "      <th>summary</th>\n",
       "      <th>full_review</th>\n",
       "      <th>review_length</th>\n",
       "      <th>rating_sentiment</th>\n",
       "      <th>basic_clean</th>\n",
       "      <th>clean_tokes</th>\n",
       "      <th>stemmed</th>\n",
       "      <th>lemmatized</th>\n",
       "      <th>clean_lemmatized</th>\n",
       "    </tr>\n",
       "  </thead>\n",
       "  <tbody>\n",
       "    <tr>\n",
       "      <th>0</th>\n",
       "      <td>1384719342</td>\n",
       "      <td>5.0</td>\n",
       "      <td>good</td>\n",
       "      <td>Not much to write about here, but it does exac...</td>\n",
       "      <td>273.0</td>\n",
       "      <td>1</td>\n",
       "      <td>not much to write about here but it does exact...</td>\n",
       "      <td>[not, much, to, write, about, here, but, it, d...</td>\n",
       "      <td>not much to write about here but it doe exactl...</td>\n",
       "      <td>not much to write about here but it doe exactl...</td>\n",
       "      <td>much write doe exactly supposed filter pop sou...</td>\n",
       "    </tr>\n",
       "  </tbody>\n",
       "</table>\n",
       "</div>"
      ],
      "text/plain": [
       "   product_id  rating summary  \\\n",
       "0  1384719342     5.0    good   \n",
       "\n",
       "                                         full_review  review_length  \\\n",
       "0  Not much to write about here, but it does exac...          273.0   \n",
       "\n",
       "   rating_sentiment                                        basic_clean  \\\n",
       "0                 1  not much to write about here but it does exact...   \n",
       "\n",
       "                                         clean_tokes  \\\n",
       "0  [not, much, to, write, about, here, but, it, d...   \n",
       "\n",
       "                                             stemmed  \\\n",
       "0  not much to write about here but it doe exactl...   \n",
       "\n",
       "                                          lemmatized  \\\n",
       "0  not much to write about here but it doe exactl...   \n",
       "\n",
       "                                    clean_lemmatized  \n",
       "0  much write doe exactly supposed filter pop sou...  "
      ]
     },
     "execution_count": 23,
     "metadata": {},
     "output_type": "execute_result"
    }
   ],
   "source": [
    "df.head(1)"
   ]
  },
  {
   "cell_type": "code",
   "execution_count": 24,
   "metadata": {},
   "outputs": [],
   "source": [
    "X = df.clean_lemmatized\n",
    "y = df.rating_sentiment\n",
    "\n",
    "X_train, X_test, y_train, y_test = train_test_split(X, y, train_size=.8,stratify=y, random_state=19)"
   ]
  },
  {
   "cell_type": "code",
   "execution_count": 25,
   "metadata": {},
   "outputs": [
    {
     "name": "stdout",
     "output_type": "stream",
     "text": [
      "Bag of words Train: (8203, 585271)\n",
      "Bag of words Test: (2051, 585271)\n"
     ]
    }
   ],
   "source": [
    "X = df.clean_lemmatized\n",
    "y = df.rating_sentiment\n",
    "\n",
    "X_train, X_test, y_train, y_test = train_test_split(X, y, train_size=.8,stratify=y, random_state=19)\n",
    "\n",
    "# Create of Count Vectorize object\n",
    "cv=CountVectorizer(min_df=0,max_df=1,binary=False,ngram_range=(1,3))\n",
    "\n",
    "# Transform the train dataset\n",
    "cv_train=cv.fit_transform(X_train)\n",
    "\n",
    "# Transform the test dataset\n",
    "cv_test=cv.transform(X_test)\n",
    "\n",
    "print('Bag of words Train:',cv_train.shape)\n",
    "print('Bag of words Test:',cv_test.shape)"
   ]
  },
  {
   "cell_type": "code",
   "execution_count": 26,
   "metadata": {},
   "outputs": [
    {
     "name": "stdout",
     "output_type": "stream",
     "text": [
      "TF-IDF Train: (8203, 585271)\n",
      "TF-IDF Test: (2051, 585271)\n"
     ]
    }
   ],
   "source": [
    "# Create the TF-IDF object\n",
    "tfidf=TfidfVectorizer(min_df=0,max_df=1,use_idf=True,ngram_range=(1,3))\n",
    "\n",
    "# Transform the train dataset\n",
    "tfidf_train=tfidf.fit_transform(X_train)\n",
    "\n",
    "# Transform the test dataset\n",
    "tfidf_test=tfidf.transform(X_test)\n",
    "\n",
    "print('TF-IDF Train:',tfidf_train.shape)\n",
    "print('TF-IDF Test:',tfidf_test.shape)"
   ]
  },
  {
   "cell_type": "code",
   "execution_count": 27,
   "metadata": {},
   "outputs": [],
   "source": [
    "# Create our model object\n",
    "mnb = MultinomialNB()\n",
    "\n",
    "# Fit the model to the Bag of words CountVectorizor\n",
    "mnb_cv = mnb.fit(cv_train, y_train)\n",
    "\n",
    "# Fit the model to the TF-IDF features\n",
    "mnb_tfidf = mnb.fit(tfidf_train, y_train)"
   ]
  },
  {
   "cell_type": "code",
   "execution_count": 28,
   "metadata": {},
   "outputs": [],
   "source": [
    "# Predicting the model for bag of words\n",
    "mnb_cv_predict=mnb.predict(cv_test)\n",
    "\n",
    "# Predicting the model for tf-idf features\n",
    "mnb_tfidf_predict=mnb.predict(tfidf_test)"
   ]
  },
  {
   "cell_type": "code",
   "execution_count": 29,
   "metadata": {},
   "outputs": [
    {
     "name": "stdout",
     "output_type": "stream",
     "text": [
      "Naive Bayes Bag of words accuracy score: 0.878595806923452\n",
      "Naive Bayes TF-IDF accuracy score: 0.878595806923452\n"
     ]
    }
   ],
   "source": [
    "# Check the accuracy score for bag of words\n",
    "mnb_cv_score=accuracy_score(y_test, mnb_cv_predict)\n",
    "print(\"Naive Bayes Bag of words accuracy score:\", mnb_cv_score)\n",
    "\n",
    "# Check the accuracy score for tfidf features\n",
    "mnb_tfidf_score=accuracy_score(y_test,mnb_tfidf_predict)\n",
    "print(\"Naive Bayes TF-IDF accuracy score:\", mnb_tfidf_score)"
   ]
  },
  {
   "cell_type": "code",
   "execution_count": 30,
   "metadata": {},
   "outputs": [
    {
     "name": "stdout",
     "output_type": "stream",
     "text": [
      "              precision    recall  f1-score   support\n",
      "\n",
      "           0       0.43      0.01      0.02       248\n",
      "           1       0.88      1.00      0.94      1803\n",
      "\n",
      "    accuracy                           0.88      2051\n",
      "   macro avg       0.65      0.50      0.48      2051\n",
      "weighted avg       0.83      0.88      0.83      2051\n",
      "\n",
      "              precision    recall  f1-score   support\n",
      "\n",
      "           0       0.00      0.00      0.00       248\n",
      "           1       0.88      1.00      0.94      1803\n",
      "\n",
      "    accuracy                           0.88      2051\n",
      "   macro avg       0.44      0.50      0.47      2051\n",
      "weighted avg       0.77      0.88      0.82      2051\n",
      "\n"
     ]
    }
   ],
   "source": [
    "mnb_cv_report = classification_report(y_test, mnb_cv_predict, target_names = ['0','1'])\n",
    "print(mnb_cv_report)\n",
    "mnb_tfidf_report = classification_report(y_test, mnb_tfidf_predict, target_names = ['0','1'])\n",
    "print(mnb_tfidf_report)"
   ]
  },
  {
   "cell_type": "code",
   "execution_count": 31,
   "metadata": {},
   "outputs": [],
   "source": [
    "model = Sequential()\n",
    "model.add(Dense(units = 75 , activation = 'relu' , input_dim = cv_train.shape[1]))\n",
    "model.add(Dense(units = 50 , activation = 'relu'))\n",
    "model.add(Dense(units = 25 , activation = 'relu'))\n",
    "model.add(Dense(units = 10 , activation = 'relu')) \n",
    "model.add(Dense(units = 1 , activation = 'sigmoid'))\n",
    "model.compile(optimizer = 'adam' , loss = 'binary_crossentropy' , metrics = ['accuracy'])"
   ]
  },
  {
   "cell_type": "code",
   "execution_count": 32,
   "metadata": {},
   "outputs": [
    {
     "name": "stdout",
     "output_type": "stream",
     "text": [
      "Model: \"sequential_1\"\n",
      "_________________________________________________________________\n",
      "Layer (type)                 Output Shape              Param #   \n",
      "=================================================================\n",
      "dense_1 (Dense)              (None, 75)                43895400  \n",
      "_________________________________________________________________\n",
      "dense_2 (Dense)              (None, 50)                3800      \n",
      "_________________________________________________________________\n",
      "dense_3 (Dense)              (None, 25)                1275      \n",
      "_________________________________________________________________\n",
      "dense_4 (Dense)              (None, 10)                260       \n",
      "_________________________________________________________________\n",
      "dense_5 (Dense)              (None, 1)                 11        \n",
      "=================================================================\n",
      "Total params: 43,900,746\n",
      "Trainable params: 43,900,746\n",
      "Non-trainable params: 0\n",
      "_________________________________________________________________\n"
     ]
    }
   ],
   "source": [
    "model.summary()"
   ]
  },
  {
   "cell_type": "code",
   "execution_count": 33,
   "metadata": {},
   "outputs": [
    {
     "name": "stdout",
     "output_type": "stream",
     "text": [
      "Epoch 1/10\n",
      "8203/8203 [==============================] - 196s 24ms/step - loss: 0.4040 - accuracy: 0.8783\n",
      "Epoch 2/10\n",
      "8203/8203 [==============================] - 187s 23ms/step - loss: 0.0246 - accuracy: 0.9888\n",
      "Epoch 3/10\n",
      "8203/8203 [==============================] - 187s 23ms/step - loss: 1.4426e-04 - accuracy: 1.0000\n",
      "Epoch 4/10\n",
      "8203/8203 [==============================] - 184s 22ms/step - loss: 9.2508e-05 - accuracy: 1.0000\n",
      "Epoch 5/10\n",
      "8203/8203 [==============================] - 185s 23ms/step - loss: 6.6116e-05 - accuracy: 1.0000\n",
      "Epoch 6/10\n",
      "8203/8203 [==============================] - 185s 23ms/step - loss: 4.9278e-05 - accuracy: 1.0000\n",
      "Epoch 7/10\n",
      "8203/8203 [==============================] - 184s 22ms/step - loss: 3.7835e-05 - accuracy: 1.0000\n",
      "Epoch 8/10\n",
      "8203/8203 [==============================] - 185s 23ms/step - loss: 2.9794e-05 - accuracy: 1.0000\n",
      "Epoch 9/10\n",
      "8203/8203 [==============================] - 195s 24ms/step - loss: 2.3688e-05 - accuracy: 1.0000\n",
      "Epoch 10/10\n",
      "8203/8203 [==============================] - 188s 23ms/step - loss: 1.9058e-05 - accuracy: 1.0000\n"
     ]
    },
    {
     "data": {
      "text/plain": [
       "<keras.callbacks.callbacks.History at 0x7fc64c728d50>"
      ]
     },
     "execution_count": 33,
     "metadata": {},
     "output_type": "execute_result"
    }
   ],
   "source": [
    "model.fit(cv_train, y_train , epochs = 10)"
   ]
  },
  {
   "cell_type": "code",
   "execution_count": 34,
   "metadata": {},
   "outputs": [
    {
     "name": "stdout",
     "output_type": "stream",
     "text": [
      "Train loss: 1.7287686315863664e-05\n",
      "Train accuracy: 1.0\n"
     ]
    }
   ],
   "source": [
    "loss, accuracy = model.evaluate(cv_train, y_train, verbose = 0)\n",
    "print(\"Train loss:\", loss)\n",
    "print(\"Train accuracy:\", accuracy)"
   ]
  },
  {
   "cell_type": "code",
   "execution_count": 35,
   "metadata": {},
   "outputs": [
    {
     "name": "stdout",
     "output_type": "stream",
     "text": [
      "Test loss: 0.9431349185159973\n",
      "Test accuracy: 0.8800585269927979\n"
     ]
    }
   ],
   "source": [
    "loss, accuracy = model.evaluate(cv_test, y_test, verbose = 0)\n",
    "print(\"Test loss:\", loss)\n",
    "print(\"Test accuracy:\", accuracy)"
   ]
  },
  {
   "cell_type": "code",
   "execution_count": 36,
   "metadata": {},
   "outputs": [],
   "source": [
    "X = df.clean_lemmatized\n",
    "y = df.rating_sentiment"
   ]
  },
  {
   "cell_type": "code",
   "execution_count": 37,
   "metadata": {},
   "outputs": [],
   "source": [
    "tf=TfidfVectorizer(min_df=0,max_df=1,use_idf=True,ngram_range=(1,2))\n",
    "X=tf.fit_transform(X)"
   ]
  },
  {
   "cell_type": "code",
   "execution_count": 38,
   "metadata": {},
   "outputs": [
    {
     "name": "stdout",
     "output_type": "stream",
     "text": [
      "Score:  0.8781082398829839\n"
     ]
    }
   ],
   "source": [
    "X_train, X_test, y_train ,y_test = train_test_split(X, y, test_size = 0.2 , random_state = 0)\n",
    "\n",
    "mnb_model=MultinomialNB()\n",
    "\n",
    "mnb_model = mnb_model.fit(X_train, y_train)\n",
    "\n",
    "predictions = mnb_model.predict(X_test)\n",
    "\n",
    "score=accuracy_score(y_test, predictions)\n",
    "\n",
    "print(\"Score: \", score)"
   ]
  },
  {
   "cell_type": "code",
   "execution_count": 39,
   "metadata": {},
   "outputs": [
    {
     "name": "stdout",
     "output_type": "stream",
     "text": [
      "              precision    recall  f1-score   support\n",
      "\n",
      "           0       0.00      0.00      0.00       250\n",
      "           1       0.88      1.00      0.94      1801\n",
      "\n",
      "    accuracy                           0.88      2051\n",
      "   macro avg       0.44      0.50      0.47      2051\n",
      "weighted avg       0.77      0.88      0.82      2051\n",
      "\n"
     ]
    },
    {
     "name": "stderr",
     "output_type": "stream",
     "text": [
      "/usr/local/anaconda3/lib/python3.7/site-packages/sklearn/metrics/_classification.py:1272: UndefinedMetricWarning: Precision and F-score are ill-defined and being set to 0.0 in labels with no predicted samples. Use `zero_division` parameter to control this behavior.\n",
      "  _warn_prf(average, modifier, msg_start, len(result))\n"
     ]
    }
   ],
   "source": [
    "mnb_bow_report = classification_report(y_test, predictions)\n",
    "print(mnb_bow_report)"
   ]
  },
  {
   "cell_type": "code",
   "execution_count": 40,
   "metadata": {},
   "outputs": [],
   "source": [
    "model = Sequential()\n",
    "model.add(Dense(units = 75 , activation = 'relu' , input_dim = cv_train.shape[1]))\n",
    "model.add(Dense(units = 50 , activation = 'relu'))\n",
    "model.add(Dense(units = 25 , activation = 'relu'))\n",
    "model.add(Dense(units = 10 , activation = 'relu')) \n",
    "model.add(Dense(units = 1 , activation = 'sigmoid'))\n",
    "model.compile(optimizer = 'adam' , loss = 'binary_crossentropy' , metrics = ['accuracy'])"
   ]
  },
  {
   "cell_type": "code",
   "execution_count": 41,
   "metadata": {
    "scrolled": false
   },
   "outputs": [
    {
     "name": "stdout",
     "output_type": "stream",
     "text": [
      "Epoch 1/10\n",
      "8203/8203 [==============================] - 193s 24ms/step - loss: 0.4156 - accuracy: 0.8766\n",
      "Epoch 2/10\n",
      "8203/8203 [==============================] - 187s 23ms/step - loss: 0.0305 - accuracy: 0.9821\n",
      "Epoch 3/10\n",
      "8203/8203 [==============================] - 188s 23ms/step - loss: 0.0028 - accuracy: 0.9998\n",
      "Epoch 4/10\n",
      "8203/8203 [==============================] - 187s 23ms/step - loss: 5.7270e-04 - accuracy: 0.9999\n",
      "Epoch 5/10\n",
      "8203/8203 [==============================] - 187s 23ms/step - loss: 5.2640e-04 - accuracy: 0.9999\n",
      "Epoch 6/10\n",
      "8203/8203 [==============================] - 187s 23ms/step - loss: 5.1351e-04 - accuracy: 0.9999\n",
      "Epoch 7/10\n",
      "8203/8203 [==============================] - 189s 23ms/step - loss: 5.1053e-04 - accuracy: 0.9999\n",
      "Epoch 8/10\n",
      "8203/8203 [==============================] - 188s 23ms/step - loss: 4.8359e-04 - accuracy: 0.9999\n",
      "Epoch 9/10\n",
      "8203/8203 [==============================] - 189s 23ms/step - loss: 5.1032e-04 - accuracy: 0.9999\n",
      "Epoch 10/10\n",
      "8203/8203 [==============================] - 189s 23ms/step - loss: 4.8405e-04 - accuracy: 0.9999\n"
     ]
    },
    {
     "data": {
      "text/plain": [
       "<keras.callbacks.callbacks.History at 0x7fc64b405290>"
      ]
     },
     "execution_count": 41,
     "metadata": {},
     "output_type": "execute_result"
    }
   ],
   "source": [
    "model.fit(cv_train, y_train , epochs = 10)"
   ]
  },
  {
   "cell_type": "code",
   "execution_count": 42,
   "metadata": {},
   "outputs": [
    {
     "name": "stdout",
     "output_type": "stream",
     "text": [
      "Test loss: 0.7609480187580214\n",
      "Test accuracy: 0.8732325434684753\n"
     ]
    }
   ],
   "source": [
    "loss, accuracy = model.evaluate(cv_test, y_test, verbose = 0)\n",
    "print(\"Test loss:\", loss)\n",
    "print(\"Test accuracy:\", accuracy)"
   ]
  },
  {
   "cell_type": "code",
   "execution_count": null,
   "metadata": {},
   "outputs": [],
   "source": []
  }
 ],
 "metadata": {
  "kernelspec": {
   "display_name": "Python 3",
   "language": "python",
   "name": "python3"
  },
  "language_info": {
   "codemirror_mode": {
    "name": "ipython",
    "version": 3
   },
   "file_extension": ".py",
   "mimetype": "text/x-python",
   "name": "python",
   "nbconvert_exporter": "python",
   "pygments_lexer": "ipython3",
   "version": "3.7.4"
  }
 },
 "nbformat": 4,
 "nbformat_minor": 2
}
